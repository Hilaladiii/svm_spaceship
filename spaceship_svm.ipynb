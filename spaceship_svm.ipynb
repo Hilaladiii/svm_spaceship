{
 "cells": [
  {
   "cell_type": "code",
   "execution_count": null,
   "metadata": {},
   "outputs": [],
   "source": [
    "import pandas as pd\n",
    "import numpy as np\n",
    "import matplotlib.pyplot as plt\n",
    "import seaborn as sns\n",
    "\n",
    "data = pd.read_csv('train.csv')"
   ]
  },
  {
   "cell_type": "markdown",
   "metadata": {},
   "source": [
    "Training"
   ]
  },
  {
   "cell_type": "code",
   "execution_count": null,
   "metadata": {},
   "outputs": [],
   "source": [
    "data.head()"
   ]
  },
  {
   "cell_type": "markdown",
   "metadata": {},
   "source": [
    "Preprocessing Data"
   ]
  },
  {
   "cell_type": "code",
   "execution_count": null,
   "metadata": {},
   "outputs": [],
   "source": [
    "from sklearn.impute import SimpleImputer\n",
    "\n",
    "mean_op = [\"Age\",\"RoomService\", \"FoodCourt\", \"ShoppingMall\", \"Spa\",\"VRDeck\"]\n",
    "mode_op = [\"HomePlanet\", \"CryoSleep\", \"Cabin\", \"Destination\", \"VIP\"]\n",
    "\n",
    "for column in mean_op:\n",
    "    data[mean_op] = SimpleImputer(strategy=\"mean\", missing_values =np.nan).fit_transform(data[mean_op]..values.reshape(-1,1))[:,0]\n",
    "\n",
    "for column in mode_op:\n",
    "    data[mode_op] = SimpleImputer(strategy=\"most_frequent\", missing_values =np.nan).fit_transform(data[mode_op]..values.reshape(-1,1))[:,0]"
   ]
  },
  {
   "cell_type": "code",
   "execution_count": null,
   "metadata": {},
   "outputs": [],
   "source": [
    "print(f\"Unique : {data['HomePlanet'].unique()}\")\n",
    "print(f\"Unique : {data['CryoSleep'].unique()}\")\n",
    "print(f\"Unique : {data['Destination'].unique()}\")\n",
    "print(f\"Unique : {data['Cabin'].unique()}\")\n",
    "print(f\"Unique : {data['VIP'].unique()}\")\n"
   ]
  },
  {
   "cell_type": "code",
   "execution_count": null,
   "metadata": {},
   "outputs": [],
   "source": [
    "data.replace({\n",
    "    'HomePlanet' : {'Europa' :0, 'Earth' :1, 'Mars' : 2},\n",
    "    'CryoSleep' : {'False' :0, 'True' :1},\n",
    "    'Destination' : {'TRAPPIST-1e':0, 'PSO J318.5-22':1, '55 Cancri e':2},\n",
    "    'VIP' : {'False' :0, \"True\" :1}},\n",
    "    inplace=True\n",
    ")"
   ]
  },
  {
   "cell_type": "code",
   "execution_count": null,
   "metadata": {},
   "outputs": [],
   "source": [
    "print(f\"Tipe Data : {data.dtypes} \\n\")"
   ]
  },
  {
   "cell_type": "markdown",
   "metadata": {},
   "source": [
    "Target & Features"
   ]
  },
  {
   "cell_type": "code",
   "execution_count": null,
   "metadata": {},
   "outputs": [],
   "source": [
    "x = data.drop(columns= ['PassengerId', 'Cabin', 'Name', 'Transported'], axis=1)\n",
    "y = data['Transported']\n",
    "print(f\"{x.shape}\")\n",
    "print(f\"{y.shape}\")"
   ]
  },
  {
   "cell_type": "code",
   "execution_count": null,
   "metadata": {},
   "outputs": [],
   "source": [
    "from sklearn.preprocessing import StandardScaler \n",
    "scaler = StandardScaler()\n",
    "x_scaled = scaler.fit_transform(x)"
   ]
  },
  {
   "cell_type": "markdown",
   "metadata": {},
   "source": [
    "Data Latih dan Uji\n"
   ]
  },
  {
   "cell_type": "code",
   "execution_count": null,
   "metadata": {},
   "outputs": [],
   "source": [
    "from sklearn.model_selection import train_test_split\n",
    "x_latih, x_uji, y_latih, y_uji = train_test_split(x_scaled,y,test_size=0.2, random_state=2)"
   ]
  },
  {
   "cell_type": "code",
   "execution_count": null,
   "metadata": {},
   "outputs": [],
   "source": [
    "print(x_latih.shape)\n",
    "print(y_latih.shape)\n",
    "print(x_uji.shape)\n",
    "print(y_uji.shape)"
   ]
  },
  {
   "cell_type": "markdown",
   "metadata": {},
   "source": [
    "Proses Train with hypertuning"
   ]
  },
  {
   "cell_type": "code",
   "execution_count": null,
   "metadata": {},
   "outputs": [],
   "source": [
    "from sklearn.svm import SVC\n",
    "from sklearn.metrics import accuracy_score\n",
    "from sklearn.model_selection import GridSearchCV \n",
    "\n",
    "# param_grid = {'C': [0.1, 1, 10, 100, 1000],  \n",
    "#               'gamma': [1, 0.1, 0.01, 0.001, 0.0001], \n",
    "#               'kernel': ['rbf']}  \n",
    "\n",
    "svm = SVC(C=1000, gamma=0.001)\n",
    "# grid = GridSearchCV(svm, param_grid, refit = True, verbose = 3) \n",
    "svm.fit(x_latih, y_latih)\n",
    "\n",
    "y_pred = svm.predict(x_uji)\n",
    "akurasi = accuracy_score(y_uji, y_pred)\n",
    "print(\"Akurasi Model SVM pada Data Uji:\", akurasi)\n"
   ]
  },
  {
   "cell_type": "code",
   "execution_count": null,
   "metadata": {},
   "outputs": [],
   "source": [
    "dataTest1 = pd.read_csv(\"test.csv\")"
   ]
  },
  {
   "cell_type": "markdown",
   "metadata": {},
   "source": [
    "Testing"
   ]
  },
  {
   "cell_type": "code",
   "execution_count": null,
   "metadata": {},
   "outputs": [],
   "source": [
    "dataTest1['Age'].fillna(dataTest1['Age'].mean(),inplace=True)\n",
    "dataTest1['RoomService'].fillna(dataTest1['RoomService'].mean(),inplace=True)\n",
    "dataTest1['FoodCourt'].fillna(dataTest1['FoodCourt'].mean(),inplace=True)\n",
    "dataTest1['ShoppingMall'].fillna(dataTest1['ShoppingMall'].mean(),inplace=True)\n",
    "dataTest1['Spa'].fillna(dataTest1['Spa'].mean(),inplace=True)\n",
    "dataTest1['VRDeck'].fillna(dataTest1['VRDeck'].mean(),inplace=True)\n",
    "\n",
    "dataTest1['HomePlanet'].fillna(dataTest1['HomePlanet'].mode()[0], inplace=True)\n",
    "dataTest1['CryoSleep'].fillna(dataTest1['CryoSleep'].mode()[0], inplace=True)\n",
    "dataTest1['Cabin'].fillna(dataTest1['Cabin'].mode()[0], inplace=True)\n",
    "dataTest1['Destination'].fillna(dataTest1['Destination'].mode()[0], inplace=True)\n",
    "dataTest1['VIP'].fillna(dataTest1['VIP'].mode()[0], inplace=True)\n",
    "\n",
    "\n",
    "x_test = dataTest1.drop(columns=['PassengerId', 'Cabin', 'Name'], axis=1)\n",
    "\n",
    "x_test.replace({\n",
    "    'HomePlanet': {'Europa': 0, 'Earth': 1, 'Mars': 2},\n",
    "    'CryoSleep': {'False': 0, 'True': 1},\n",
    "    'Destination': {'TRAPPIST-1e': 0, 'PSO J318.5-22': 1, '55 Cancri e': 2},\n",
    "    'VIP': {'False': 0, \"True\": 1}\n",
    "}, inplace=True)\n",
    "\n",
    "from sklearn.preprocessing import StandardScaler \n",
    "scaler = StandardScaler()\n",
    "x_scaled = scaler.fit_transform(x_test)\n",
    "\n",
    "predictions = grid.predict(x_scaled)\n",
    "\n",
    "\n",
    "submission_df = pd.DataFrame({\n",
    "    'PassengerId': dataTest1['PassengerId'],\n",
    "    'Transported': predictions\n",
    "})\n",
    "\n",
    "submission_df.to_csv('submission.csv', index=False)\n"
   ]
  }
 ],
 "metadata": {
  "kernelspec": {
   "display_name": "base",
   "language": "python",
   "name": "python3"
  },
  "language_info": {
   "codemirror_mode": {
    "name": "ipython",
    "version": 3
   },
   "file_extension": ".py",
   "mimetype": "text/x-python",
   "name": "python",
   "nbconvert_exporter": "python",
   "pygments_lexer": "ipython3",
   "version": "3.10.12"
  }
 },
 "nbformat": 4,
 "nbformat_minor": 2
}
